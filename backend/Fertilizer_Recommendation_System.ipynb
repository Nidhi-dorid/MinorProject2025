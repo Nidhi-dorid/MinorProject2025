{
  "cells": [
    {
      "cell_type": "markdown",
      "metadata": {
        "colab_type": "text",
        "id": "view-in-github"
      },
      "source": [
        "<a href=\"https://colab.research.google.com/github/soumya0422/Fertilizer_Prediction_system/blob/main/Fertilizer_Recommendation_System.ipynb\" target=\"_parent\"><img src=\"https://colab.research.google.com/assets/colab-badge.svg\" alt=\"Open In Colab\"/></a>"
      ]
    },
    {
      "cell_type": "code",
      "execution_count": 2,
      "metadata": {
        "colab": {
          "base_uri": "https://localhost:8080/"
        },
        "id": "eSD0eA09F-s6",
        "outputId": "da1daad9-bf17-4a36-d79f-400686735a0e"
      },
      "outputs": [
        {
          "name": "stdout",
          "output_type": "stream",
          "text": [
            "    Temparature  Humidity   Moisture Soil_Type  Crop_Type  Nitrogen  \\\n",
            "0            26         52        38     Sandy      Maize        37   \n",
            "1            29         52        45     Loamy  Sugarcane        12   \n",
            "2            34         65        62     Black     Cotton         7   \n",
            "3            32         62        34       Red    Tobacco        22   \n",
            "4            28         54        46    Clayey      Paddy        35   \n",
            "..          ...        ...       ...       ...        ...       ...   \n",
            "94           25         50        32    Clayey     Pulses        24   \n",
            "95           30         60        27       Red    Tobacco         4   \n",
            "96           38         72        51     Loamy      Wheat        39   \n",
            "97           36         60        43     Sandy    Millets        15   \n",
            "98           29         58        57     Black  Sugarcane        12   \n",
            "\n",
            "    Potassium  Phosphorous Fertilizer_Name  \n",
            "0           0            0            Urea  \n",
            "1           0           36             DAP  \n",
            "2           9           30        14-35-14  \n",
            "3           0           20           28-28  \n",
            "4           0            0            Urea  \n",
            "..        ...          ...             ...  \n",
            "94          0           19           28-28  \n",
            "95         17           17      10/26/2026  \n",
            "96          0            0            Urea  \n",
            "97          0           41             DAP  \n",
            "98          0           10           20-20  \n",
            "\n",
            "[99 rows x 9 columns]\n"
          ]
        }
      ],
      "source": [
        "import pandas as pd\n",
        "\n",
        "url = \"https://raw.githubusercontent.com/soumya0422/Fertilizer_Prediction_system/main/Fertilizer%20Prediction.csv\"\n",
        "\n",
        "df = pd.read_csv(url, on_bad_lines='skip', engine='python')  # Skips problematic rows\n",
        "\n",
        "print(df)\n"
      ]
    },
    {
      "cell_type": "code",
      "execution_count": 3,
      "metadata": {
        "colab": {
          "base_uri": "https://localhost:8080/",
          "height": 423
        },
        "id": "adiIGCGcH186",
        "outputId": "132eb59a-f2cb-490d-bd93-b090d658a8e4"
      },
      "outputs": [
        {
          "data": {
            "text/html": [
              "<div>\n",
              "<style scoped>\n",
              "    .dataframe tbody tr th:only-of-type {\n",
              "        vertical-align: middle;\n",
              "    }\n",
              "\n",
              "    .dataframe tbody tr th {\n",
              "        vertical-align: top;\n",
              "    }\n",
              "\n",
              "    .dataframe thead th {\n",
              "        text-align: right;\n",
              "    }\n",
              "</style>\n",
              "<table border=\"1\" class=\"dataframe\">\n",
              "  <thead>\n",
              "    <tr style=\"text-align: right;\">\n",
              "      <th></th>\n",
              "      <th>Temparature</th>\n",
              "      <th>Humidity</th>\n",
              "      <th>Moisture</th>\n",
              "      <th>Soil_Type</th>\n",
              "      <th>Crop_Type</th>\n",
              "      <th>Nitrogen</th>\n",
              "      <th>Potassium</th>\n",
              "      <th>Phosphorous</th>\n",
              "      <th>Fertilizer_Name</th>\n",
              "    </tr>\n",
              "  </thead>\n",
              "  <tbody>\n",
              "    <tr>\n",
              "      <th>0</th>\n",
              "      <td>26</td>\n",
              "      <td>52</td>\n",
              "      <td>38</td>\n",
              "      <td>Sandy</td>\n",
              "      <td>Maize</td>\n",
              "      <td>37</td>\n",
              "      <td>0</td>\n",
              "      <td>0</td>\n",
              "      <td>Urea</td>\n",
              "    </tr>\n",
              "    <tr>\n",
              "      <th>1</th>\n",
              "      <td>29</td>\n",
              "      <td>52</td>\n",
              "      <td>45</td>\n",
              "      <td>Loamy</td>\n",
              "      <td>Sugarcane</td>\n",
              "      <td>12</td>\n",
              "      <td>0</td>\n",
              "      <td>36</td>\n",
              "      <td>DAP</td>\n",
              "    </tr>\n",
              "    <tr>\n",
              "      <th>2</th>\n",
              "      <td>34</td>\n",
              "      <td>65</td>\n",
              "      <td>62</td>\n",
              "      <td>Black</td>\n",
              "      <td>Cotton</td>\n",
              "      <td>7</td>\n",
              "      <td>9</td>\n",
              "      <td>30</td>\n",
              "      <td>14-35-14</td>\n",
              "    </tr>\n",
              "    <tr>\n",
              "      <th>3</th>\n",
              "      <td>32</td>\n",
              "      <td>62</td>\n",
              "      <td>34</td>\n",
              "      <td>Red</td>\n",
              "      <td>Tobacco</td>\n",
              "      <td>22</td>\n",
              "      <td>0</td>\n",
              "      <td>20</td>\n",
              "      <td>28-28</td>\n",
              "    </tr>\n",
              "    <tr>\n",
              "      <th>4</th>\n",
              "      <td>28</td>\n",
              "      <td>54</td>\n",
              "      <td>46</td>\n",
              "      <td>Clayey</td>\n",
              "      <td>Paddy</td>\n",
              "      <td>35</td>\n",
              "      <td>0</td>\n",
              "      <td>0</td>\n",
              "      <td>Urea</td>\n",
              "    </tr>\n",
              "    <tr>\n",
              "      <th>...</th>\n",
              "      <td>...</td>\n",
              "      <td>...</td>\n",
              "      <td>...</td>\n",
              "      <td>...</td>\n",
              "      <td>...</td>\n",
              "      <td>...</td>\n",
              "      <td>...</td>\n",
              "      <td>...</td>\n",
              "      <td>...</td>\n",
              "    </tr>\n",
              "    <tr>\n",
              "      <th>94</th>\n",
              "      <td>25</td>\n",
              "      <td>50</td>\n",
              "      <td>32</td>\n",
              "      <td>Clayey</td>\n",
              "      <td>Pulses</td>\n",
              "      <td>24</td>\n",
              "      <td>0</td>\n",
              "      <td>19</td>\n",
              "      <td>28-28</td>\n",
              "    </tr>\n",
              "    <tr>\n",
              "      <th>95</th>\n",
              "      <td>30</td>\n",
              "      <td>60</td>\n",
              "      <td>27</td>\n",
              "      <td>Red</td>\n",
              "      <td>Tobacco</td>\n",
              "      <td>4</td>\n",
              "      <td>17</td>\n",
              "      <td>17</td>\n",
              "      <td>10/26/2026</td>\n",
              "    </tr>\n",
              "    <tr>\n",
              "      <th>96</th>\n",
              "      <td>38</td>\n",
              "      <td>72</td>\n",
              "      <td>51</td>\n",
              "      <td>Loamy</td>\n",
              "      <td>Wheat</td>\n",
              "      <td>39</td>\n",
              "      <td>0</td>\n",
              "      <td>0</td>\n",
              "      <td>Urea</td>\n",
              "    </tr>\n",
              "    <tr>\n",
              "      <th>97</th>\n",
              "      <td>36</td>\n",
              "      <td>60</td>\n",
              "      <td>43</td>\n",
              "      <td>Sandy</td>\n",
              "      <td>Millets</td>\n",
              "      <td>15</td>\n",
              "      <td>0</td>\n",
              "      <td>41</td>\n",
              "      <td>DAP</td>\n",
              "    </tr>\n",
              "    <tr>\n",
              "      <th>98</th>\n",
              "      <td>29</td>\n",
              "      <td>58</td>\n",
              "      <td>57</td>\n",
              "      <td>Black</td>\n",
              "      <td>Sugarcane</td>\n",
              "      <td>12</td>\n",
              "      <td>0</td>\n",
              "      <td>10</td>\n",
              "      <td>20-20</td>\n",
              "    </tr>\n",
              "  </tbody>\n",
              "</table>\n",
              "<p>99 rows × 9 columns</p>\n",
              "</div>"
            ],
            "text/plain": [
              "    Temparature  Humidity   Moisture Soil_Type  Crop_Type  Nitrogen  \\\n",
              "0            26         52        38     Sandy      Maize        37   \n",
              "1            29         52        45     Loamy  Sugarcane        12   \n",
              "2            34         65        62     Black     Cotton         7   \n",
              "3            32         62        34       Red    Tobacco        22   \n",
              "4            28         54        46    Clayey      Paddy        35   \n",
              "..          ...        ...       ...       ...        ...       ...   \n",
              "94           25         50        32    Clayey     Pulses        24   \n",
              "95           30         60        27       Red    Tobacco         4   \n",
              "96           38         72        51     Loamy      Wheat        39   \n",
              "97           36         60        43     Sandy    Millets        15   \n",
              "98           29         58        57     Black  Sugarcane        12   \n",
              "\n",
              "    Potassium  Phosphorous Fertilizer_Name  \n",
              "0           0            0            Urea  \n",
              "1           0           36             DAP  \n",
              "2           9           30        14-35-14  \n",
              "3           0           20           28-28  \n",
              "4           0            0            Urea  \n",
              "..        ...          ...             ...  \n",
              "94          0           19           28-28  \n",
              "95         17           17      10/26/2026  \n",
              "96          0            0            Urea  \n",
              "97          0           41             DAP  \n",
              "98          0           10           20-20  \n",
              "\n",
              "[99 rows x 9 columns]"
            ]
          },
          "execution_count": 3,
          "metadata": {},
          "output_type": "execute_result"
        }
      ],
      "source": [
        "df"
      ]
    },
    {
      "cell_type": "code",
      "execution_count": 4,
      "metadata": {
        "colab": {
          "base_uri": "https://localhost:8080/",
          "height": 366
        },
        "id": "cfn7S7NhH-NH",
        "outputId": "5596502b-3c38-4dfb-b2d6-4505acba5603"
      },
      "outputs": [
        {
          "data": {
            "text/plain": [
              "Temparature        0\n",
              "Humidity           0\n",
              "Moisture           0\n",
              "Soil_Type          0\n",
              "Crop_Type          0\n",
              "Nitrogen           0\n",
              "Potassium          0\n",
              "Phosphorous        0\n",
              "Fertilizer_Name    0\n",
              "dtype: int64"
            ]
          },
          "execution_count": 4,
          "metadata": {},
          "output_type": "execute_result"
        }
      ],
      "source": [
        "df.isnull().sum()"
      ]
    },
    {
      "cell_type": "code",
      "execution_count": 5,
      "metadata": {
        "colab": {
          "base_uri": "https://localhost:8080/"
        },
        "id": "0SOOUeRfIIFK",
        "outputId": "632b47a9-9e64-4874-a1fe-83975514172c"
      },
      "outputs": [
        {
          "data": {
            "text/plain": [
              "(99, 9)"
            ]
          },
          "execution_count": 5,
          "metadata": {},
          "output_type": "execute_result"
        }
      ],
      "source": [
        "df.shape"
      ]
    },
    {
      "cell_type": "code",
      "execution_count": 6,
      "metadata": {
        "colab": {
          "base_uri": "https://localhost:8080/"
        },
        "id": "iLlc1QFrISvQ",
        "outputId": "a1ea9143-6583-4377-ecaf-fc7192af3c0b"
      },
      "outputs": [
        {
          "name": "stdout",
          "output_type": "stream",
          "text": [
            "<class 'pandas.core.frame.DataFrame'>\n",
            "RangeIndex: 99 entries, 0 to 98\n",
            "Data columns (total 9 columns):\n",
            " #   Column           Non-Null Count  Dtype \n",
            "---  ------           --------------  ----- \n",
            " 0   Temparature      99 non-null     int64 \n",
            " 1   Humidity         99 non-null     int64 \n",
            " 2   Moisture         99 non-null     int64 \n",
            " 3   Soil_Type        99 non-null     object\n",
            " 4   Crop_Type        99 non-null     object\n",
            " 5   Nitrogen         99 non-null     int64 \n",
            " 6   Potassium        99 non-null     int64 \n",
            " 7   Phosphorous      99 non-null     int64 \n",
            " 8   Fertilizer_Name  99 non-null     object\n",
            "dtypes: int64(6), object(3)\n",
            "memory usage: 7.1+ KB\n"
          ]
        }
      ],
      "source": [
        "df.info()"
      ]
    },
    {
      "cell_type": "code",
      "execution_count": 7,
      "metadata": {
        "colab": {
          "base_uri": "https://localhost:8080/"
        },
        "id": "QxyXiJXkIaGS",
        "outputId": "12efa4a9-94ff-4a8f-8f29-abc747c4803c"
      },
      "outputs": [
        {
          "data": {
            "text/plain": [
              "np.int64(0)"
            ]
          },
          "execution_count": 7,
          "metadata": {},
          "output_type": "execute_result"
        }
      ],
      "source": [
        "df.duplicated().sum()"
      ]
    },
    {
      "cell_type": "code",
      "execution_count": 8,
      "metadata": {
        "colab": {
          "base_uri": "https://localhost:8080/",
          "height": 300
        },
        "id": "_ibRAOwmYh0X",
        "outputId": "a16771b9-3ed0-4463-b782-ccb07daf4580"
      },
      "outputs": [
        {
          "data": {
            "text/html": [
              "<div>\n",
              "<style scoped>\n",
              "    .dataframe tbody tr th:only-of-type {\n",
              "        vertical-align: middle;\n",
              "    }\n",
              "\n",
              "    .dataframe tbody tr th {\n",
              "        vertical-align: top;\n",
              "    }\n",
              "\n",
              "    .dataframe thead th {\n",
              "        text-align: right;\n",
              "    }\n",
              "</style>\n",
              "<table border=\"1\" class=\"dataframe\">\n",
              "  <thead>\n",
              "    <tr style=\"text-align: right;\">\n",
              "      <th></th>\n",
              "      <th>Temparature</th>\n",
              "      <th>Humidity</th>\n",
              "      <th>Moisture</th>\n",
              "      <th>Nitrogen</th>\n",
              "      <th>Potassium</th>\n",
              "      <th>Phosphorous</th>\n",
              "    </tr>\n",
              "  </thead>\n",
              "  <tbody>\n",
              "    <tr>\n",
              "      <th>count</th>\n",
              "      <td>99.000000</td>\n",
              "      <td>99.000000</td>\n",
              "      <td>99.000000</td>\n",
              "      <td>99.000000</td>\n",
              "      <td>99.000000</td>\n",
              "      <td>99.000000</td>\n",
              "    </tr>\n",
              "    <tr>\n",
              "      <th>mean</th>\n",
              "      <td>30.282828</td>\n",
              "      <td>59.151515</td>\n",
              "      <td>43.181818</td>\n",
              "      <td>18.909091</td>\n",
              "      <td>3.383838</td>\n",
              "      <td>18.606061</td>\n",
              "    </tr>\n",
              "    <tr>\n",
              "      <th>std</th>\n",
              "      <td>3.502304</td>\n",
              "      <td>5.840331</td>\n",
              "      <td>11.271568</td>\n",
              "      <td>11.599693</td>\n",
              "      <td>5.814667</td>\n",
              "      <td>13.476978</td>\n",
              "    </tr>\n",
              "    <tr>\n",
              "      <th>min</th>\n",
              "      <td>25.000000</td>\n",
              "      <td>50.000000</td>\n",
              "      <td>25.000000</td>\n",
              "      <td>4.000000</td>\n",
              "      <td>0.000000</td>\n",
              "      <td>0.000000</td>\n",
              "    </tr>\n",
              "    <tr>\n",
              "      <th>25%</th>\n",
              "      <td>28.000000</td>\n",
              "      <td>54.000000</td>\n",
              "      <td>34.000000</td>\n",
              "      <td>10.000000</td>\n",
              "      <td>0.000000</td>\n",
              "      <td>9.000000</td>\n",
              "    </tr>\n",
              "    <tr>\n",
              "      <th>50%</th>\n",
              "      <td>30.000000</td>\n",
              "      <td>60.000000</td>\n",
              "      <td>41.000000</td>\n",
              "      <td>13.000000</td>\n",
              "      <td>0.000000</td>\n",
              "      <td>19.000000</td>\n",
              "    </tr>\n",
              "    <tr>\n",
              "      <th>75%</th>\n",
              "      <td>33.000000</td>\n",
              "      <td>64.000000</td>\n",
              "      <td>50.500000</td>\n",
              "      <td>24.000000</td>\n",
              "      <td>7.500000</td>\n",
              "      <td>30.000000</td>\n",
              "    </tr>\n",
              "    <tr>\n",
              "      <th>max</th>\n",
              "      <td>38.000000</td>\n",
              "      <td>72.000000</td>\n",
              "      <td>65.000000</td>\n",
              "      <td>42.000000</td>\n",
              "      <td>19.000000</td>\n",
              "      <td>42.000000</td>\n",
              "    </tr>\n",
              "  </tbody>\n",
              "</table>\n",
              "</div>"
            ],
            "text/plain": [
              "       Temparature  Humidity    Moisture   Nitrogen  Potassium  Phosphorous\n",
              "count    99.000000  99.000000  99.000000  99.000000  99.000000    99.000000\n",
              "mean     30.282828  59.151515  43.181818  18.909091   3.383838    18.606061\n",
              "std       3.502304   5.840331  11.271568  11.599693   5.814667    13.476978\n",
              "min      25.000000  50.000000  25.000000   4.000000   0.000000     0.000000\n",
              "25%      28.000000  54.000000  34.000000  10.000000   0.000000     9.000000\n",
              "50%      30.000000  60.000000  41.000000  13.000000   0.000000    19.000000\n",
              "75%      33.000000  64.000000  50.500000  24.000000   7.500000    30.000000\n",
              "max      38.000000  72.000000  65.000000  42.000000  19.000000    42.000000"
            ]
          },
          "execution_count": 8,
          "metadata": {},
          "output_type": "execute_result"
        }
      ],
      "source": [
        "df.describe()"
      ]
    },
    {
      "cell_type": "code",
      "execution_count": 9,
      "metadata": {
        "colab": {
          "base_uri": "https://localhost:8080/"
        },
        "id": "iQOkVImLyjSc",
        "outputId": "2e16a819-89e7-4273-81ba-c530de9dbffd"
      },
      "outputs": [
        {
          "name": "stdout",
          "output_type": "stream",
          "text": [
            "             Temparature  Humidity   Moisture  Nitrogen  Potassium  \\\n",
            "Temparature     1.000000   0.973164  0.091222 -0.033771  -0.023424   \n",
            "Humidity        0.973164   1.000000  0.091342 -0.060646  -0.003833   \n",
            "Moisture        0.091222   0.091342  1.000000 -0.095945   0.027727   \n",
            "Nitrogen       -0.033771  -0.060646 -0.095945  1.000000  -0.500087   \n",
            "Potassium      -0.023424  -0.003833  0.027727 -0.500087   1.000000   \n",
            "Phosphorous     0.207545   0.204044  0.009276 -0.686971   0.089192   \n",
            "\n",
            "             Phosphorous  \n",
            "Temparature     0.207545  \n",
            "Humidity        0.204044  \n",
            "Moisture        0.009276  \n",
            "Nitrogen       -0.686971  \n",
            "Potassium       0.089192  \n",
            "Phosphorous     1.000000  \n"
          ]
        }
      ],
      "source": [
        "import pandas as pd\n",
        "import numpy as np\n",
        "\n",
        "# Assuming 'df' is your DataFrame\n",
        "\n",
        "# Convert specific columns to numeric, handling errors\n",
        "for col in ['Temparature', 'Humidity ', 'Moisture', 'Nitrogen', 'Potassium', 'Phosphorous']: # added a space after 'Humidity'\n",
        "    try:\n",
        "        df[col] = pd.to_numeric(df[col], errors='coerce')  # Convert to numbers, invalid parsing will be set as NaN\n",
        "    except ValueError: # changed to more general ValueError\n",
        "        print(f\"Warning: Could not convert column '{col}' to numeric. Check for non-numeric values.\")\n",
        "\n",
        "# If you want to ignore non-numeric columns, filter them out:\n",
        "numerical_df = df.select_dtypes(include=np.number)  # Select only numeric columns for correlation\n",
        "\n",
        "# Now calculate the correlation on the numerical DataFrame or the modified DataFrame with NaNs:\n",
        "corr = numerical_df.corr()  # Use numerical_df if you filtered out non-numeric columns\n",
        "# OR\n",
        "# corr = df.corr(numeric_only=True)  # Use df if you converted non-numeric to NaNs using pd.to_numeric\n",
        "\n",
        "# Print the correlation matrix\n",
        "print(corr)"
      ]
    },
    {
      "cell_type": "code",
      "execution_count": null,
      "metadata": {},
      "outputs": [
        {
          "name": "stdout",
          "output_type": "stream",
          "text": [
            "Requirement already satisfied: seaborn in c:\\vscode\\fertilizer_sys\\.venv\\lib\\site-packages (0.13.2)\n",
            "Requirement already satisfied: numpy!=1.24.0,>=1.20 in c:\\vscode\\fertilizer_sys\\.venv\\lib\\site-packages (from seaborn) (2.2.4)\n",
            "Requirement already satisfied: pandas>=1.2 in c:\\vscode\\fertilizer_sys\\.venv\\lib\\site-packages (from seaborn) (2.2.3)\n",
            "Requirement already satisfied: matplotlib!=3.6.1,>=3.4 in c:\\vscode\\fertilizer_sys\\.venv\\lib\\site-packages (from seaborn) (3.10.1)\n",
            "Requirement already satisfied: contourpy>=1.0.1 in c:\\vscode\\fertilizer_sys\\.venv\\lib\\site-packages (from matplotlib!=3.6.1,>=3.4->seaborn) (1.3.2)\n",
            "Requirement already satisfied: cycler>=0.10 in c:\\vscode\\fertilizer_sys\\.venv\\lib\\site-packages (from matplotlib!=3.6.1,>=3.4->seaborn) (0.12.1)\n",
            "Requirement already satisfied: fonttools>=4.22.0 in c:\\vscode\\fertilizer_sys\\.venv\\lib\\site-packages (from matplotlib!=3.6.1,>=3.4->seaborn) (4.57.0)\n",
            "Requirement already satisfied: kiwisolver>=1.3.1 in c:\\vscode\\fertilizer_sys\\.venv\\lib\\site-packages (from matplotlib!=3.6.1,>=3.4->seaborn) (1.4.8)\n",
            "Requirement already satisfied: packaging>=20.0 in c:\\vscode\\fertilizer_sys\\.venv\\lib\\site-packages (from matplotlib!=3.6.1,>=3.4->seaborn) (24.2)\n",
            "Requirement already satisfied: pillow>=8 in c:\\vscode\\fertilizer_sys\\.venv\\lib\\site-packages (from matplotlib!=3.6.1,>=3.4->seaborn) (11.2.1)\n",
            "Requirement already satisfied: pyparsing>=2.3.1 in c:\\vscode\\fertilizer_sys\\.venv\\lib\\site-packages (from matplotlib!=3.6.1,>=3.4->seaborn) (3.2.3)\n",
            "Requirement already satisfied: python-dateutil>=2.7 in c:\\vscode\\fertilizer_sys\\.venv\\lib\\site-packages (from matplotlib!=3.6.1,>=3.4->seaborn) (2.9.0.post0)\n",
            "Requirement already satisfied: pytz>=2020.1 in c:\\vscode\\fertilizer_sys\\.venv\\lib\\site-packages (from pandas>=1.2->seaborn) (2025.2)\n",
            "Requirement already satisfied: tzdata>=2022.7 in c:\\vscode\\fertilizer_sys\\.venv\\lib\\site-packages (from pandas>=1.2->seaborn) (2025.2)\n",
            "Requirement already satisfied: six>=1.5 in c:\\vscode\\fertilizer_sys\\.venv\\lib\\site-packages (from python-dateutil>=2.7->matplotlib!=3.6.1,>=3.4->seaborn) (1.17.0)\n",
            "Note: you may need to restart the kernel to use updated packages.\n"
          ]
        }
      ],
      "source": [
        "import seaborn as sns; import pandas as pd\n",
        "\n",
        "# Install seaborn using magic command\n",
        "%pip install seaborn\n"
      ]
    },
    {
      "cell_type": "code",
      "execution_count": 13,
      "metadata": {
        "colab": {
          "base_uri": "https://localhost:8080/",
          "height": 528
        },
        "id": "T3QId811KBcq",
        "outputId": "2568658a-87d8-43db-ff1e-3f79ee395a13"
      },
      "outputs": [
        {
          "data": {
            "text/plain": [
              "<Axes: >"
            ]
          },
          "execution_count": 13,
          "metadata": {},
          "output_type": "execute_result"
        },
        {
          "data": {
            "image/png": "[encoded data removed]",
            "text/plain": [
              "<Figure size 640x480 with 2 Axes>"
            ]
          },
          "metadata": {},
          "output_type": "display_data"
        }
      ],
      "source": [
        "import seaborn as sns\n",
        "sns.heatmap(corr,annot=True,cbar=True,cmap='coolwarm')"
      ]
    },
    {
      "cell_type": "code",
      "execution_count": 14,
      "metadata": {
        "colab": {
          "base_uri": "https://localhost:8080/"
        },
        "id": "UX6Zsos7hXgr",
        "outputId": "3a417019-d4c0-4d5e-f3fb-44d058c22226"
      },
      "outputs": [
        {
          "name": "stdout",
          "output_type": "stream",
          "text": [
            "\n",
            " Fertilizer Recommendation System\n",
            "\n",
            " Recommended Fertilizer: **Urea**\n"
          ]
        }
      ],
      "source": [
        "from sklearn.model_selection import train_test_split\n",
        "from sklearn.ensemble import RandomForestClassifier\n",
        "from sklearn.preprocessing import OneHotEncoder\n",
        "\n",
        "X = df.drop('Fertilizer_Name', axis=1)\n",
        "y = df['Fertilizer_Name']\n",
        "# One-hot encoding for categorical columns\n",
        "categorical_cols = X.select_dtypes(include='object').columns\n",
        "encoder = OneHotEncoder(sparse_output=False, handle_unknown='ignore')\n",
        "\n",
        "X_encoded = pd.DataFrame(encoder.fit_transform(X[categorical_cols]))\n",
        "X_encoded.columns = encoder.get_feature_names_out(categorical_cols)\n",
        "\n",
        "# Combine encoded categorical data with numeric features\n",
        "X_final = pd.concat([X_encoded, X.drop(columns=categorical_cols).reset_index(drop=True)], axis=1)\n",
        "\n",
        "# Split data\n",
        "X_train, X_test, y_train, y_test = train_test_split(X_final, y, test_size=0.2, random_state=42)\n",
        "\n",
        "# Train model\n",
        "model = RandomForestClassifier()\n",
        "model.fit(X_train, y_train)\n",
        "\n",
        "# Function to predict fertilizer\n",
        "def recommend_fertilizer(soil_type, crop_type, temperature, humidity, nitrogen, phosphorous, potassium, moisture):\n",
        "    user_input = pd.DataFrame({\n",
        "        'Soil_Type': [soil_type],\n",
        "        'Crop_Type': [crop_type],\n",
        "        'Temperature': [temperature],\n",
        "        'Humidity': [humidity],\n",
        "        'Nitrogen': [nitrogen],\n",
        "        'Phosphorous': [phosphorous],\n",
        "        'Potassium': [potassium],\n",
        "        'Moisture': [moisture]\n",
        "    })\n",
        "\n",
        "    # Encode categorical\n",
        "    user_encoded = pd.DataFrame(encoder.transform(user_input[categorical_cols]))\n",
        "    user_encoded.columns = encoder.get_feature_names_out(categorical_cols)\n",
        "\n",
        "    # Combine with numeric\n",
        "    user_final = pd.concat([user_encoded, user_input.drop(columns=categorical_cols)], axis=1)\n",
        "    user_final = user_final.reindex(columns=X_final.columns, fill_value=0)\n",
        "\n",
        "    prediction = model.predict(user_final)[0]\n",
        "    return prediction\n",
        "\n",
        "#Get input from the user\n",
        "print(\"\\n Fertilizer Recommendation System\")\n",
        "soil_type = input(\"Enter Soil Type (e.g., Loamy, Sandy): \")\n",
        "crop_type = input(\"Enter Crop Type (e.g., Rice, Wheat): \")\n",
        "temperature = float(input(\"Enter Temperature (°C): \"))\n",
        "humidity = float(input(\"Enter Humidity (%): \"))\n",
        "nitrogen = int(input(\"Enter Nitrogen value: \"))\n",
        "phosphorous = int(input(\"Enter Phosphorous value: \"))\n",
        "potassium = int(input(\"Enter Potassium value: \"))\n",
        "moisture = float(input(\"Enter Moisture (%): \"))\n",
        "\n",
        "# Make prediction\n",
        "result = recommend_fertilizer(\n",
        "    soil_type, crop_type, temperature, humidity, nitrogen, phosphorous, potassium, moisture\n",
        ")\n",
        "\n",
        "print(f\"\\n Recommended Fertilizer: **{result}**\")\n",
        "\n"
      ]
    },
    {
      "cell_type": "code",
      "execution_count": 15,
      "metadata": {},
      "outputs": [
        {
          "name": "stdout",
          "output_type": "stream",
          "text": [
            "Model Accuracy: 95.00%\n"
          ]
        }
      ],
      "source": [
        "accuracy = model.score(X_test, y_test)\n",
        "print(f\"Model Accuracy: {accuracy * 100:.2f}%\")\n"
      ]
    },
    {
      "cell_type": "code",
      "execution_count": 1,
      "metadata": {},
      "outputs": [
        {
          "name": "stdout",
          "output_type": "stream",
          "text": [
            "['Maize' 'Sugarcane' 'Cotton' 'Tobacco' 'Paddy' 'Barley' 'Wheat' 'Millets'\n",
            " 'Oil seeds' 'Pulses' 'Ground Nuts']\n"
          ]
        }
      ],
      "source": [
        "import pandas as pd\n",
        "\n",
        "# Load the dataset\n",
        "df = pd.read_csv(\"Fertilizer Prediction.csv\")\n",
        "\n",
        "# Print unique crop types\n",
        "print(df['Crop_Type'].unique())\n"
      ]
    }
  ],
  "metadata": {
    "colab": {
      "authorship_tag": "ABX9TyOEmBehOR0CZp3Z+w/NSGUQ",
      "include_colab_link": true,
      "provenance": []
    },
    "kernelspec": {
      "display_name": ".venv",
      "language": "python",
      "name": "python3"
    },
    "language_info": {
      "codemirror_mode": {
        "name": "ipython",
        "version": 3
      },
      "file_extension": ".py",
      "mimetype": "text/x-python",
      "name": "python",
      "nbconvert_exporter": "python",
      "pygments_lexer": "ipython3",
      "version": "3.13.2"
    }
  },
  "nbformat": 4,
  "nbformat_minor": 0
}
